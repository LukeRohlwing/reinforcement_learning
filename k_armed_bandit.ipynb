{
 "cells": [
  {
   "cell_type": "markdown",
   "metadata": {},
   "source": [
    "### The k-armed Bandit Problem\n",
    "\n",
    "Last updated: March 15, 2022"
   ]
  },
  {
   "cell_type": "markdown",
   "metadata": {},
   "source": [
    "\n",
    "### SOURCES \n",
    "\n",
    "Reinforcement Learning, RS Sutton & AG Barto, 2nd edition. Chapter 2\n",
    "\n",
    "### LEARNING OUTCOMES\n",
    "\n",
    "- Understand the k-armed bandit problem\n",
    "- Simulate a k-armed bandit problem with $\\epsilon$-greedy actions\n",
    "- Understand how using $\\epsilon$-greedy actions can improve the policy\n",
    "\n",
    "### CONCEPTS\n",
    "\n",
    "- k-armed bandit problem\n",
    "- simulation to measure value function\n",
    "- $\\epsilon$-greedy actions can improve policy"
   ]
  },
  {
   "cell_type": "markdown",
   "metadata": {},
   "source": [
    "### Introducing the k-armed Bandit Problem\n",
    "\n"
   ]
  },
  {
   "cell_type": "markdown",
   "metadata": {},
   "source": [
    "![k_armed_bandit](images/k_armed_bandit.jpg)"
   ]
  },
  {
   "cell_type": "markdown",
   "metadata": {},
   "source": [
    "RL evaluates the actions taken rather than providing the correct actions to the agent.  \n",
    "This distinguished RL from other types of learning.  \n",
    "\n",
    "k-armed bandit problems are important and illustrate key ideas.  \n",
    "They include the class of problems using one state.  \n",
    "Contextual bandit problems allow for different states."
   ]
  },
  {
   "cell_type": "markdown",
   "metadata": {},
   "source": [
    "**The problem**\n",
    "\n",
    "Imagine a slot machine with *k* arms, possibly with different values.  \n",
    "At each step, you pull an arm (the action) and receive the reward.  \n",
    "Assume stationarity: the rewards don't change over time.  \n",
    "Objective: maximize the expected discounted total reward over a horizon.\n",
    "\n",
    "Examples:\n",
    "- selecting between different investment opportunities\n",
    "- a doctor selects between different treatment options\n",
    "- a family tries to discover the best Chinese restaurant in town"
   ]
  },
  {
   "cell_type": "markdown",
   "metadata": {},
   "source": [
    "**Value of an action**\n",
    "\n",
    "Each action results in a reward, and we can think about mean reward: the action's *value*\n",
    "\n",
    "Value of action *a* denoted $q_*(a) = E[R_t | A_t=a]$  \n",
    "\n",
    "This is expected reward given action *a* is selected\n",
    "\n",
    "This quantity is typically unknown an must be estimated empirically\n",
    "\n",
    "$Q_t(a)$ denotes the estimated value of action $a$ at time $t$"
   ]
  },
  {
   "cell_type": "markdown",
   "metadata": {},
   "source": [
    "\n",
    "**Exploration vs Exploitation and Greedy Actions**\n",
    "\n",
    "Getting a good estimate means repeatedly trying the actions.\n",
    "\n",
    "For actions with large variance, more sampling is required to accurately measure $q_*(a)$\n",
    "\n",
    "One action will be best or there will be a tie. Selecting the action with highest $Q_t(a)$ is the greedy action.\n",
    "\n",
    "If we are too greedy, we might not discover the best action.\n",
    "\n",
    "Balancing exploration and exploition depends on value estimates, uncertainties, and number of remaining steps."
   ]
  },
  {
   "cell_type": "markdown",
   "metadata": {},
   "source": [
    "**Action-value Methods**\n",
    "\n",
    "Measure the action value of $a$ as the mean reward when $a$ is taken: \n",
    "\n",
    "$Q_t(a) = \\frac{\\sum_{i=1}^{t-1}R_i \\cdot \\unicode{x1D7D9}_{A_i=a}}{\\sum_{i=1}^{t-1} \\unicode{x1D7D9}_{A_i=a}}$\n",
    "\n",
    "By the law of large numbers, $Q_t(a)$ converges to $q_*(a)$ for sufficiently large *t*\n",
    "\n",
    "Simplest policy: select action with highest $Q_t$\n",
    "\n",
    "$A_t=\\underset{a}{\\operatorname{\\arg max}} Q_t(a)$\n",
    "\n",
    "This is the greedy action; it is generally better to balance with exploring, so $\\epsilon$-greedy methods may work better"
   ]
  },
  {
   "cell_type": "markdown",
   "metadata": {},
   "source": [
    "**Incremental Implementation**\n",
    "\n",
    "Want to produce a scalable way to compute $Q_t$ that doesn't require storing all rewards.  \n",
    "\n",
    "$\n",
    "\\begin{aligned}  \n",
    "Q_{n+1} &= \\frac{1}{n} \\sum_{i=1}^{n}R_i \\\\\n",
    "&= \\frac{1}{n} (R_n + \\sum_{i=1}^{n-1}R_i) \\\\\n",
    "&= Q_n + \\frac{1}{n}(R_n - Q_n) \\\\\n",
    "\\end{aligned}\n",
    "$\n",
    "\n",
    "See Sutton & Barto for details\n",
    "\n",
    "Notice this involves storing two things (and not all the rewards): prior value estimate $Q_n$ and number of time steps $n$\n",
    "\n",
    "This is an important update pattern: \n",
    "\n",
    "**new estimate = old estimate + step_size * (new reward - old estimate)** \n",
    "\n",
    "The term (new reward - old estimate) is an error estimate"
   ]
  },
  {
   "cell_type": "markdown",
   "metadata": {},
   "source": [
    "**Bandit Example**\n",
    "\n",
    "Below we set up a 4-armed bandit where each arm follows normal distribution with different mean, standard deviation.  \n",
    "Note the first arm has highest mean and also highest standard deviation.  \n",
    "The second arm might be mistaken for highest-valued arm as it has much lower standard deviation with slightly lower mean."
   ]
  },
  {
   "cell_type": "code",
   "execution_count": 1,
   "metadata": {},
   "outputs": [],
   "source": [
    "import matplotlib.pyplot as plt\n",
    "import numpy as np\n",
    "import random"
   ]
  },
  {
   "cell_type": "code",
   "execution_count": 2,
   "metadata": {},
   "outputs": [],
   "source": [
    "def bandit_one_draw():\n",
    "    arm = np.zeros(4)\n",
    "    arm[0] = np.random.normal(10,10)\n",
    "    arm[1] = np.random.normal(9.5,1)\n",
    "    arm[2] = np.random.normal(1,1)\n",
    "    arm[3] = np.random.normal(0.5,1)\n",
    "    return arm"
   ]
  },
  {
   "cell_type": "markdown",
   "metadata": {},
   "source": [
    "Produce one draw from each arm:"
   ]
  },
  {
   "cell_type": "code",
   "execution_count": 3,
   "metadata": {},
   "outputs": [
    {
     "data": {
      "text/plain": [
       "array([16.07806085,  9.5397734 ,  0.21298782,  1.75232275])"
      ]
     },
     "execution_count": 3,
     "metadata": {},
     "output_type": "execute_result"
    }
   ],
   "source": [
    "bandit_one_draw()"
   ]
  },
  {
   "cell_type": "markdown",
   "metadata": {},
   "source": [
    "**Exercise 1a**  \n",
    "Write simulation code to implement k-armed bandit using the incremental update equation.   \n",
    "This should include:\n",
    "- Writing and calling a method to use $\\epsilon$-greedy actions  \n",
    "- Using a loop\n",
    "- Calling `bandit_one_draw()`  \n",
    "- Setting k=4, iterations = 100, $\\epsilon$=0.1\n",
    "- Inside the loop, print Q, the value estimates for each state. This will show the evolution through time.\n",
    "\n",
    "Does your simulation identify the first state as highest valued? What happens to your result if iterations = 10?"
   ]
  },
  {
   "cell_type": "code",
   "execution_count": null,
   "metadata": {},
   "outputs": [],
   "source": []
  },
  {
   "cell_type": "code",
   "execution_count": 3,
   "metadata": {},
   "outputs": [
    {
     "name": "stdout",
     "output_type": "stream",
     "text": [
      "[21.39691036  0.          0.          0.        ]\n",
      "[-0.02379475  0.          0.          0.        ]\n",
      "[-0.02379475  9.81088166  0.          0.        ]\n",
      "[-0.02379475  9.51641808  0.          0.        ]\n",
      "[-0.02379475  9.38544539  0.          0.        ]\n",
      "[-0.02379475  9.6089277   0.          0.        ]\n",
      "[-0.02379475  9.54628963  0.          0.        ]\n",
      "[-0.02379475  9.43155997  0.          0.        ]\n",
      "[-0.02379475  9.53637791  0.          0.        ]\n",
      "[-0.02379475  9.42187704  0.          0.        ]\n",
      "[-0.02379475  9.4435458   0.          0.        ]\n",
      "[-0.02379475  9.72156422  0.          0.        ]\n",
      "[-0.02379475  9.85154005  0.          0.        ]\n",
      "[-0.02379475  9.75481267  0.          0.        ]\n",
      "[-0.02379475  9.71346539  0.          0.        ]\n",
      "[-0.02379475  9.64594423  0.          0.        ]\n",
      "[-0.02379475  9.66287407  0.          0.        ]\n",
      "[-0.02379475  9.63992472  0.          0.        ]\n",
      "[-0.02379475  9.48676527  0.          0.        ]\n",
      "[-0.02379475  9.40838149  0.          0.        ]\n",
      "[-0.02379475  9.35967119  0.          0.        ]\n",
      "[-0.02379475  9.34644784  0.          0.        ]\n",
      "[-0.02379475  9.41058421  0.          0.        ]\n",
      "[-0.02379475  9.4197846   0.          0.        ]\n",
      "[-0.02379475  9.3804913   0.          0.        ]\n",
      "[-0.02379475  9.35599329  0.          0.        ]\n",
      "[-0.02379475  9.35851312  0.          0.        ]\n",
      "[-0.02379475  9.42287866  0.          0.        ]\n",
      "[-0.02379475  9.40114803  0.          0.        ]\n",
      "[-0.02379475  9.40114803  2.40608726  0.        ]\n",
      "[-0.02379475  9.40194978  2.40608726  0.        ]\n",
      "[3.73179883 9.40194978 2.40608726 0.        ]\n",
      "[5.66833601 9.40194978 2.40608726 0.        ]\n",
      "[5.87708478 9.40194978 2.40608726 0.        ]\n",
      "[5.87708478 9.40547178 2.40608726 0.        ]\n",
      "[5.87708478 9.40937481 2.40608726 0.        ]\n",
      "[5.87708478 9.37529814 2.40608726 0.        ]\n",
      "[5.87708478 9.39866681 2.40608726 0.        ]\n",
      "[5.87708478 9.42815075 2.40608726 0.        ]\n",
      "[5.87708478 9.4146011  2.40608726 0.        ]\n",
      "[5.87708478 9.42144869 2.40608726 0.        ]\n",
      "[5.87708478 9.4394212  2.40608726 0.        ]\n",
      "[5.87708478 9.44796901 2.40608726 0.        ]\n",
      "[5.87708478 9.43221641 2.40608726 0.        ]\n",
      "[5.87708478 9.46112694 2.40608726 0.        ]\n",
      "[5.87708478 9.44180292 2.40608726 0.        ]\n",
      "[5.87708478 9.41831891 2.40608726 0.        ]\n",
      "[5.87708478 9.46816808 2.40608726 0.        ]\n",
      "[5.75270329 9.46816808 2.40608726 0.        ]\n",
      "[5.75270329 9.46257647 2.40608726 0.        ]\n",
      "[5.75270329 9.4867259  2.40608726 0.        ]\n",
      "[5.75270329 9.47328144 2.40608726 0.        ]\n",
      "[5.75270329 9.48176757 2.40608726 0.        ]\n",
      "[5.75270329 9.45005951 2.40608726 0.        ]\n",
      "[5.75270329 9.45005951 1.59273817 0.        ]\n",
      "[5.75270329 9.46440736 1.59273817 0.        ]\n",
      "[5.75270329 9.47586109 1.59273817 0.        ]\n",
      "[5.75270329 9.48754367 1.59273817 0.        ]\n",
      "[5.75270329 9.47187156 1.59273817 0.        ]\n",
      "[5.74464907 9.47187156 1.59273817 0.        ]\n",
      "[5.74464907 9.5078044  1.59273817 0.        ]\n",
      "[5.74464907 9.50361141 1.59273817 0.        ]\n",
      "[5.74464907 9.4469728  1.59273817 0.        ]\n",
      "[5.74464907 9.44193451 1.59273817 0.        ]\n",
      "[5.74464907 9.42535567 1.59273817 0.        ]\n",
      "[5.74464907 9.41934589 1.59273817 0.        ]\n",
      "[5.74464907 9.42692329 1.59273817 0.        ]\n",
      "[5.74464907 9.4299685  1.59273817 0.        ]\n",
      "[5.74464907 9.39441126 1.59273817 0.        ]\n",
      "[5.74464907 9.38012341 1.59273817 0.        ]\n",
      "[5.74464907 9.39214827 1.59273817 0.        ]\n",
      "[5.74464907 9.35371794 1.59273817 0.        ]\n",
      "[5.74464907 9.36075554 1.59273817 0.        ]\n",
      "[5.74464907 9.37951035 1.59273817 0.        ]\n",
      "[5.74464907 9.35714354 1.59273817 0.        ]\n",
      "[5.74464907 9.33946506 1.59273817 0.        ]\n",
      "[5.74464907 9.33271327 1.59273817 0.        ]\n",
      "[5.74464907 9.3474322  1.59273817 0.        ]\n",
      "[5.74464907 9.3474322  1.50260093 0.        ]\n",
      "[5.74464907 9.33407728 1.50260093 0.        ]\n",
      "[5.74464907 9.34088765 1.50260093 0.        ]\n",
      "[5.74464907 9.34442402 1.50260093 0.        ]\n",
      "[5.74464907 9.33468    1.50260093 0.        ]\n",
      "[5.74464907 9.33442568 1.50260093 0.        ]\n",
      "[5.74464907 9.33442568 1.50260093 0.55148065]\n",
      "[5.74464907 9.34165546 1.50260093 0.55148065]\n",
      "[5.74464907 9.35236507 1.50260093 0.55148065]\n",
      "[5.74464907 9.35847824 1.50260093 0.55148065]\n",
      "[5.74464907 9.34079971 1.50260093 0.55148065]\n",
      "[5.74464907 9.33523543 1.50260093 0.55148065]\n",
      "[5.74464907 9.33390723 1.50260093 0.55148065]\n",
      "[5.74464907 9.34791363 1.50260093 0.55148065]\n",
      "[5.74464907 9.37149227 1.50260093 0.55148065]\n",
      "[5.74464907 9.36548781 1.50260093 0.55148065]\n",
      "[5.74464907 9.35391405 1.50260093 0.55148065]\n",
      "[5.74464907 9.36405413 1.50260093 0.55148065]\n",
      "[5.74464907 9.35745578 1.50260093 0.55148065]\n",
      "[5.74464907 9.35745578 1.50260093 0.77348026]\n",
      "[5.74464907 9.39079003 1.50260093 0.77348026]\n",
      "[5.74464907 9.39561158 1.50260093 0.77348026]\n"
     ]
    }
   ],
   "source": [
    "# solution\n",
    "k = 4\n",
    "iterations = 100\n",
    "epsilon = 0.1\n",
    "\n",
    "Q = np.zeros(k)\n",
    "N = np.zeros(k)\n",
    "\n",
    "def act(epsilon, action_values):\n",
    "    action_size = len(action_values)\n",
    "    if np.random.rand() <= epsilon: # random draw with prob epsilon\n",
    "        return random.randrange(action_size)\n",
    "    return np.argmax(action_values)  # returns action\n",
    "\n",
    "results = np.empty((iterations, k))\n",
    "\n",
    "for it in range(iterations):\n",
    "    A = act(epsilon, Q)\n",
    "    draw = bandit_one_draw()\n",
    "    R = draw[A]\n",
    "    N[A] = N[A] + 1\n",
    "    Q[A] = Q[A] + (1/N[A]) * (R - Q[A])\n",
    "    print(Q)\n",
    "    results[it,:] = Q"
   ]
  },
  {
   "cell_type": "markdown",
   "metadata": {},
   "source": [
    "**Exercise 1b**  \n",
    "Modify your code from exercise 1a to store the Q values into an array.  \n",
    "The rows represent time steps, the columns represent actions.  \n",
    "Plot the Q values to show the evolution of the values over time for each action.  \n",
    "Include a legend to identify the actions."
   ]
  },
  {
   "cell_type": "code",
   "execution_count": null,
   "metadata": {},
   "outputs": [],
   "source": []
  },
  {
   "cell_type": "code",
   "execution_count": 9,
   "metadata": {
    "collapsed": true,
    "jupyter": {
     "outputs_hidden": true
    }
   },
   "outputs": [
    {
     "data": {
      "image/png": "[encoded data removed]",
      "text/plain": [
       "<Figure size 432x288 with 1 Axes>"
      ]
     },
     "metadata": {
      "needs_background": "light"
     },
     "output_type": "display_data"
    }
   ],
   "source": [
    "plt.plot(results)\n",
    "plt.legend(['0','1','2','3'])\n",
    "plt.show()"
   ]
  }
 ],
 "metadata": {
  "kernelspec": {
   "display_name": "Python 3",
   "language": "python",
   "name": "python3"
  },
  "language_info": {
   "codemirror_mode": {
    "name": "ipython",
    "version": 3
   },
   "file_extension": ".py",
   "mimetype": "text/x-python",
   "name": "python",
   "nbconvert_exporter": "python",
   "pygments_lexer": "ipython3",
   "version": "3.7.4"
  }
 },
 "nbformat": 4,
 "nbformat_minor": 4
}
