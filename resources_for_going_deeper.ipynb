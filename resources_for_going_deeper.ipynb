{
 "cells": [
  {
   "cell_type": "markdown",
   "metadata": {},
   "source": [
    "### Resources for Going Deeper\n",
    "\n",
    "Last updated: Mar 28, 2022\n",
    "\n",
    "---"
   ]
  },
  {
   "cell_type": "markdown",
   "metadata": {},
   "source": [
    "### Summary\n",
    "\n",
    "In this workshop, we have covered a lot of ground in reinforcement learning theory and implementation.  \n",
    "The field is currently iterating in the areas of Deep Q Networks and Policy Gradients.  \n",
    "Some references are provided below for extending your knowledge. Given your training, you should be well prepared!\n",
    "\n",
    "\n",
    "### Deep Q Networks\n",
    "\n",
    "Several refinements have been made to improve Deep Q Networks:\n",
    "\n",
    "- [Double Q-learning](https://arxiv.org/abs/1509.06461)  \n",
    "This remediates an issue where the Q-learning algorithm is known to overestimate action values under certain conditions\n",
    "\n",
    "- [Dueling Double Deep Q-Networks](https://arxiv.org/abs/1511.06581)  \n",
    "Many Deep RL models use conventional architectures. The paper introduces a new neural network architecture for model-free reinforcement learning.\n",
    "\n",
    "- [Dueling Double Deep Q-Network applied to sepsis](http://proceedings.mlr.press/v68/raghu17a/raghu17a.pdf)  \n",
    "Proposes a method for finding optimal treatment policy for septic patients\n",
    "\n",
    "### Policy Gradient\n",
    "\n",
    "- [Deep Deterministic Policy Gradient](https://spinningup.openai.com/en/latest/algorithms/ddpg.html)  \n",
    "Deep Deterministic Policy Gradient (DDPG) is an algorithm which concurrently learns a Q-function and a policy\n",
    "\n",
    "- [Actor-Critic](https://towardsdatascience.com/understanding-actor-critic-methods-931b97b6df3f)  \n",
    "Understanding Actor Critic Methods and A2C\n",
    "\n",
    "### Deep RL Tools\n",
    "\n",
    "- [Spinning Up in Deep RL](https://spinningup.openai.com/en/latest/user/introduction.html)  \n",
    "An educational resource produced by OpenAI that makes it easier to learn about deep RL.  \n",
    "It includes terminology, theory, code and more.\n",
    "\n",
    "- [RLlib](https://docs.ray.io/en/latest/rllib/index.html)  \n",
    "  RLlib is an open-source library for RL. It offers support for production-level, highly distributed RL   workloads.\n",
    "\n",
    "### Papers in Financial Risk\n",
    "\n",
    "- [Towards Safe Reinforcement Learning via Constraining\n",
    "Conditional Value at Risk\n",
    "](https://openreview.net/pdf?id=igA6MDRISO1)"
   ]
  },
  {
   "cell_type": "markdown",
   "metadata": {},
   "source": [
    "---  "
   ]
  }
 ],
 "metadata": {
  "kernelspec": {
   "display_name": "Python 3 (ipykernel)",
   "language": "python",
   "name": "python3"
  },
  "language_info": {
   "codemirror_mode": {
    "name": "ipython",
    "version": 3
   },
   "file_extension": ".py",
   "mimetype": "text/x-python",
   "name": "python",
   "nbconvert_exporter": "python",
   "pygments_lexer": "ipython3",
   "version": "3.9.12"
  }
 },
 "nbformat": 4,
 "nbformat_minor": 4
}
