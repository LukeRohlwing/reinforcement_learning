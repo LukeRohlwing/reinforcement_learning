{
 "cells": [
  {
   "cell_type": "markdown",
   "metadata": {},
   "source": [
    "#### Warmup: Simple Stock Simulator\n",
    "#### Last updated: May 6, 2022"
   ]
  },
  {
   "cell_type": "code",
   "execution_count": 1,
   "metadata": {},
   "outputs": [],
   "source": [
    "import numpy as np\n",
    "import random"
   ]
  },
  {
   "cell_type": "markdown",
   "metadata": {},
   "source": [
    "Consider a stock with price 100. At each time step, it moves with equal probability up or down in unit increments.  \n",
    "After 10 steps, what is the probability the stock is NOT in range [97, 102]? \n",
    "\n",
    "We will create a *stock* class to solve the problem. We use these requirements: \n",
    "- *init* method takes *price*, *horizon*\n",
    "- *simulate_path* method simulates one full path\n",
    "- create a stock object with necessary attribute values\n"
   ]
  },
  {
   "cell_type": "markdown",
   "metadata": {},
   "source": [
    "---\n",
    "\n",
    "**ASIDE**: Example of creating class with one attribute"
   ]
  },
  {
   "cell_type": "code",
   "execution_count": 2,
   "metadata": {},
   "outputs": [],
   "source": [
    "class circle:\n",
    "    def __init__(self, diameter):\n",
    "        self.diameter = diameter\n",
    "        \n",
    "    def compute_circumference(self):\n",
    "        return np.pi * self.diameter"
   ]
  },
  {
   "cell_type": "code",
   "execution_count": 3,
   "metadata": {},
   "outputs": [
    {
     "data": {
      "text/plain": [
       "15.707963267948966"
      ]
     },
     "execution_count": 3,
     "metadata": {},
     "output_type": "execute_result"
    }
   ],
   "source": [
    "# create a circle object\n",
    "cir = circle(5)\n",
    "# compute the circle's circumference\n",
    "cir.compute_circumference()"
   ]
  },
  {
   "cell_type": "markdown",
   "metadata": {},
   "source": [
    "---\n",
    "\n",
    "Now back to our problem..."
   ]
  },
  {
   "cell_type": "code",
   "execution_count": 4,
   "metadata": {},
   "outputs": [],
   "source": [
    "class stock:\n",
    "    def __init__(self, price, horizon):\n",
    "        self.price = price\n",
    "        self.horizon = horizon\n",
    "        self.increments = [-1,1]\n",
    "            \n",
    "    def simulate_path(self):  \n",
    "        '''\n",
    "        simulates price increments and returns full price path\n",
    "        '''\n",
    "        path = np.zeros((1 + self.horizon)) # holds initial price and future prices\n",
    "        path[0] = self.price\n",
    "        increments = [random.choice(self.increments) for inc in range(self.horizon)]\n",
    "        #print(increments)\n",
    "        path[1:] = self.price + np.cumsum(increments)\n",
    "        return path"
   ]
  },
  {
   "cell_type": "code",
   "execution_count": 15,
   "metadata": {},
   "outputs": [],
   "source": [
    "# create a stock\n",
    "s1 = stock(100, 10)"
   ]
  },
  {
   "cell_type": "code",
   "execution_count": 16,
   "metadata": {},
   "outputs": [
    {
     "name": "stdout",
     "output_type": "stream",
     "text": [
      "[100. 101. 100. 101. 102. 103. 102. 103. 104. 103. 104.]\n"
     ]
    }
   ],
   "source": [
    "# simulate a path\n",
    "path = s1.simulate_path()\n",
    "print(path)"
   ]
  },
  {
   "cell_type": "code",
   "execution_count": 17,
   "metadata": {},
   "outputs": [
    {
     "name": "stdout",
     "output_type": "stream",
     "text": [
      "path: [100.  99.  98.  99. 100. 101. 102. 103. 102. 103. 102.] ; val_term: 102.0 ; out_of_range: 0\n",
      "path: [100.  99.  98.  99.  98.  99.  98.  99. 100. 101. 100.] ; val_term: 100.0 ; out_of_range: 0\n",
      "path: [100. 101. 100. 101. 100. 101. 102. 101. 100. 101. 102.] ; val_term: 102.0 ; out_of_range: 0\n",
      "path: [100. 101. 102. 101. 102. 101. 100.  99. 100.  99. 100.] ; val_term: 100.0 ; out_of_range: 0\n",
      "path: [100.  99. 100. 101. 102. 101. 100. 101. 102. 103. 102.] ; val_term: 102.0 ; out_of_range: 0\n",
      "path: [100.  99. 100.  99.  98.  97.  96.  97.  96.  95.  96.] ; val_term: 96.0 ; out_of_range: 1\n",
      "path: [100.  99. 100.  99. 100.  99. 100.  99. 100. 101. 102.] ; val_term: 102.0 ; out_of_range: 1\n",
      "path: [100.  99.  98.  97.  96.  95.  96.  95.  94.  93.  92.] ; val_term: 92.0 ; out_of_range: 2\n",
      "path: [100. 101. 102. 101. 100.  99. 100.  99. 100.  99.  98.] ; val_term: 98.0 ; out_of_range: 2\n",
      "path: [100.  99. 100. 101. 102. 103. 102. 101. 102. 103. 104.] ; val_term: 104.0 ; out_of_range: 3\n",
      "path: [100. 101. 102. 101. 100.  99. 100. 101. 102. 101. 102.] ; val_term: 102.0 ; out_of_range: 3\n",
      "path: [100. 101. 100.  99. 100.  99. 100.  99.  98.  97.  96.] ; val_term: 96.0 ; out_of_range: 4\n",
      "path: [100.  99.  98.  99. 100. 101. 102. 103. 104. 103. 102.] ; val_term: 102.0 ; out_of_range: 4\n",
      "path: [100. 101. 100. 101. 100.  99.  98.  97.  98.  99.  98.] ; val_term: 98.0 ; out_of_range: 4\n",
      "path: [100.  99.  98.  99.  98.  99. 100. 101. 102. 101. 100.] ; val_term: 100.0 ; out_of_range: 4\n",
      "path: [100. 101. 102. 101. 102. 103. 104. 103. 104. 105. 104.] ; val_term: 104.0 ; out_of_range: 5\n",
      "path: [100.  99.  98.  99. 100. 101. 100. 101. 100. 101. 100.] ; val_term: 100.0 ; out_of_range: 5\n",
      "path: [100. 101. 100.  99.  98.  99. 100. 101. 100. 101. 102.] ; val_term: 102.0 ; out_of_range: 5\n",
      "path: [100.  99.  98.  97.  96.  95.  96.  95.  94.  93.  94.] ; val_term: 94.0 ; out_of_range: 6\n",
      "path: [100.  99.  98.  99.  98.  99.  98.  97.  96.  97.  98.] ; val_term: 98.0 ; out_of_range: 6\n",
      "path: [100. 101. 102. 101. 100. 101. 100. 101. 102. 103. 102.] ; val_term: 102.0 ; out_of_range: 6\n",
      "path: [100.  99. 100.  99.  98.  97.  96.  95.  96.  95.  94.] ; val_term: 94.0 ; out_of_range: 7\n",
      "path: [100. 101. 102. 103. 104. 103. 102. 101. 102. 103. 104.] ; val_term: 104.0 ; out_of_range: 8\n",
      "path: [100.  99.  98.  99. 100.  99. 100. 101. 102. 103. 104.] ; val_term: 104.0 ; out_of_range: 9\n",
      "path: [100. 101. 100. 101. 100. 101. 100. 101. 102. 101. 102.] ; val_term: 102.0 ; out_of_range: 9\n",
      "path: [100.  99.  98.  99.  98.  99. 100.  99.  98.  97.  96.] ; val_term: 96.0 ; out_of_range: 10\n",
      "path: [100.  99. 100. 101. 100.  99.  98.  97.  96.  97.  98.] ; val_term: 98.0 ; out_of_range: 10\n",
      "path: [100. 101. 102. 103. 102. 101. 100.  99.  98.  97.  96.] ; val_term: 96.0 ; out_of_range: 11\n",
      "path: [100. 101. 102. 101. 102. 101. 100.  99. 100.  99.  98.] ; val_term: 98.0 ; out_of_range: 11\n",
      "path: [100.  99. 100. 101. 102. 101. 100. 101. 100.  99. 100.] ; val_term: 100.0 ; out_of_range: 11\n",
      "path: [100. 101. 100. 101. 100. 101. 102. 103. 104. 105. 104.] ; val_term: 104.0 ; out_of_range: 12\n",
      "path: [100.  99.  98.  97.  98.  99. 100. 101. 100. 101. 100.] ; val_term: 100.0 ; out_of_range: 12\n",
      "path: [100.  99. 100.  99.  98.  99. 100. 101. 100. 101. 102.] ; val_term: 102.0 ; out_of_range: 12\n",
      "path: [100. 101. 102. 101. 100. 101. 100. 101. 102. 101. 102.] ; val_term: 102.0 ; out_of_range: 12\n",
      "path: [100.  99. 100.  99.  98.  99.  98.  97.  96.  95.  96.] ; val_term: 96.0 ; out_of_range: 13\n",
      "path: [100.  99. 100.  99.  98.  97.  96.  97.  96.  97.  96.] ; val_term: 96.0 ; out_of_range: 14\n",
      "path: [100.  99. 100.  99. 100.  99.  98.  99. 100.  99.  98.] ; val_term: 98.0 ; out_of_range: 14\n",
      "path: [100.  99.  98.  97.  98.  97.  96.  97.  98.  99. 100.] ; val_term: 100.0 ; out_of_range: 14\n",
      "path: [100.  99. 100. 101. 100. 101. 100. 101. 102. 103. 102.] ; val_term: 102.0 ; out_of_range: 14\n",
      "path: [100. 101. 100.  99. 100.  99.  98.  97.  98.  97.  98.] ; val_term: 98.0 ; out_of_range: 14\n",
      "path: [100.  99.  98.  99.  98.  97.  96.  97.  98.  97.  96.] ; val_term: 96.0 ; out_of_range: 15\n",
      "path: [100.  99. 100. 101. 100. 101. 102. 101. 102. 103. 102.] ; val_term: 102.0 ; out_of_range: 15\n",
      "path: [100. 101. 102. 103. 104. 103. 102. 103. 102. 103. 104.] ; val_term: 104.0 ; out_of_range: 16\n",
      "path: [100.  99.  98.  97.  98.  99.  98.  97.  98.  99.  98.] ; val_term: 98.0 ; out_of_range: 16\n",
      "path: [100. 101. 102. 101. 102. 103. 104. 105. 106. 105. 106.] ; val_term: 106.0 ; out_of_range: 17\n",
      "path: [100. 101. 100.  99. 100. 101. 102. 103. 104. 105. 106.] ; val_term: 106.0 ; out_of_range: 18\n",
      "path: [100.  99. 100. 101. 102. 103. 104. 103. 104. 105. 106.] ; val_term: 106.0 ; out_of_range: 19\n",
      "path: [100.  99.  98.  99. 100. 101. 102. 103. 102. 103. 104.] ; val_term: 104.0 ; out_of_range: 20\n",
      "path: [100. 101. 102. 103. 102. 101. 100.  99. 100.  99.  98.] ; val_term: 98.0 ; out_of_range: 20\n",
      "path: [100. 101. 100.  99.  98.  97.  98.  97.  98.  99.  98.] ; val_term: 98.0 ; out_of_range: 20\n",
      "path: [100. 101. 102. 101. 102. 103. 104. 103. 102. 101. 102.] ; val_term: 102.0 ; out_of_range: 20\n",
      "path: [100.  99.  98.  97.  98.  99.  98.  99.  98.  99.  98.] ; val_term: 98.0 ; out_of_range: 20\n",
      "path: [100.  99. 100. 101. 102. 103. 102. 103. 102. 101. 100.] ; val_term: 100.0 ; out_of_range: 20\n",
      "path: [100.  99.  98.  99. 100. 101. 102. 101. 102. 103. 102.] ; val_term: 102.0 ; out_of_range: 20\n",
      "path: [100.  99. 100. 101. 100.  99.  98.  99.  98.  97.  96.] ; val_term: 96.0 ; out_of_range: 21\n",
      "path: [100.  99.  98.  99.  98.  99. 100. 101. 100.  99. 100.] ; val_term: 100.0 ; out_of_range: 21\n",
      "path: [100.  99.  98.  97.  98.  99.  98.  97.  98.  97.  98.] ; val_term: 98.0 ; out_of_range: 21\n",
      "path: [100. 101. 100.  99.  98.  99.  98.  97.  96.  95.  94.] ; val_term: 94.0 ; out_of_range: 22\n",
      "path: [100.  99.  98.  99.  98.  97.  96.  97.  98.  97.  98.] ; val_term: 98.0 ; out_of_range: 22\n",
      "path: [100.  99. 100.  99.  98.  97.  96.  97.  98.  97.  96.] ; val_term: 96.0 ; out_of_range: 23\n",
      "path: [100. 101. 102. 101. 102. 101. 102. 103. 102. 101. 100.] ; val_term: 100.0 ; out_of_range: 23\n",
      "path: [100. 101. 102. 103. 104. 103. 102. 103. 104. 105. 106.] ; val_term: 106.0 ; out_of_range: 24\n",
      "path: [100.  99. 100.  99.  98.  99.  98.  97.  96.  95.  96.] ; val_term: 96.0 ; out_of_range: 25\n",
      "path: [100. 101. 100.  99.  98.  99. 100. 101. 100. 101. 102.] ; val_term: 102.0 ; out_of_range: 25\n",
      "path: [100. 101. 102. 101. 100.  99. 100.  99.  98.  99.  98.] ; val_term: 98.0 ; out_of_range: 25\n",
      "path: [100. 101. 100.  99. 100. 101. 102. 103. 104. 105. 104.] ; val_term: 104.0 ; out_of_range: 26\n",
      "path: [100.  99.  98.  99.  98.  97.  96.  95.  96.  95.  94.] ; val_term: 94.0 ; out_of_range: 27\n",
      "path: [100. 101. 102. 101. 100.  99.  98.  99. 100.  99. 100.] ; val_term: 100.0 ; out_of_range: 27\n",
      "path: [100. 101. 102. 101. 100. 101. 100. 101. 100.  99. 100.] ; val_term: 100.0 ; out_of_range: 27\n",
      "path: [100.  99. 100. 101. 100. 101. 100.  99.  98.  99. 100.] ; val_term: 100.0 ; out_of_range: 27\n",
      "path: [100.  99. 100.  99. 100. 101. 102. 103. 102. 101. 102.] ; val_term: 102.0 ; out_of_range: 27\n",
      "path: [100. 101. 102. 101. 102. 103. 104. 103. 102. 101. 102.] ; val_term: 102.0 ; out_of_range: 27\n",
      "path: [100. 101. 102. 103. 102. 101. 102. 103. 104. 105. 104.] ; val_term: 104.0 ; out_of_range: 28\n",
      "path: [100. 101. 100.  99. 100. 101. 100.  99.  98.  97.  98.] ; val_term: 98.0 ; out_of_range: 28\n",
      "path: [100.  99.  98.  99.  98.  99. 100. 101. 102. 101. 100.] ; val_term: 100.0 ; out_of_range: 28\n",
      "path: [100.  99.  98.  97.  98.  97.  96.  95.  96.  97.  98.] ; val_term: 98.0 ; out_of_range: 28\n",
      "path: [100. 101. 100.  99. 100.  99. 100. 101. 100.  99.  98.] ; val_term: 98.0 ; out_of_range: 28\n",
      "path: [100.  99. 100. 101. 100.  99. 100.  99. 100. 101. 102.] ; val_term: 102.0 ; out_of_range: 28\n",
      "path: [100.  99. 100. 101. 100.  99. 100.  99.  98.  97.  98.] ; val_term: 98.0 ; out_of_range: 28\n",
      "path: [100.  99. 100.  99.  98.  97.  96.  97.  96.  97.  98.] ; val_term: 98.0 ; out_of_range: 28\n",
      "path: [100.  99. 100.  99. 100. 101. 100.  99. 100. 101. 100.] ; val_term: 100.0 ; out_of_range: 28\n",
      "path: [100. 101. 102. 103. 102. 101. 100. 101. 102. 103. 104.] ; val_term: 104.0 ; out_of_range: 29\n",
      "path: [100.  99. 100. 101. 102. 103. 102. 103. 102. 101. 100.] ; val_term: 100.0 ; out_of_range: 29\n",
      "path: [100. 101. 102. 101. 100. 101. 100.  99. 100. 101. 102.] ; val_term: 102.0 ; out_of_range: 29\n",
      "path: [100.  99.  98.  99. 100. 101. 102. 103. 102. 103. 102.] ; val_term: 102.0 ; out_of_range: 29\n",
      "path: [100.  99. 100. 101. 100. 101. 102. 101. 100. 101. 100.] ; val_term: 100.0 ; out_of_range: 29\n",
      "path: [100. 101. 102. 103. 102. 103. 104. 105. 106. 105. 106.] ; val_term: 106.0 ; out_of_range: 30\n",
      "path: [100. 101. 102. 101. 102. 101. 102. 101. 100. 101. 100.] ; val_term: 100.0 ; out_of_range: 30\n",
      "path: [100.  99.  98.  99. 100. 101. 102. 101. 102. 103. 102.] ; val_term: 102.0 ; out_of_range: 30\n",
      "path: [100.  99.  98.  97.  98.  97.  96.  95.  96.  95.  96.] ; val_term: 96.0 ; out_of_range: 31\n",
      "path: [100. 101. 102. 103. 104. 105. 104. 105. 106. 105. 104.] ; val_term: 104.0 ; out_of_range: 32\n",
      "path: [100.  99.  98.  97.  96.  97.  98.  97.  96.  95.  96.] ; val_term: 96.0 ; out_of_range: 33\n",
      "path: [100.  99.  98.  99.  98.  99. 100. 101. 102. 101. 100.] ; val_term: 100.0 ; out_of_range: 33\n",
      "path: [100.  99. 100.  99.  98.  99.  98.  99.  98.  99.  98.] ; val_term: 98.0 ; out_of_range: 33\n",
      "path: [100. 101. 102. 103. 104. 103. 102. 101. 100.  99.  98.] ; val_term: 98.0 ; out_of_range: 33\n",
      "path: [100.  99.  98.  97.  98.  99.  98.  97.  98.  97.  98.] ; val_term: 98.0 ; out_of_range: 33\n",
      "path: [100. 101. 102. 103. 102. 101. 102. 101. 102. 103. 104.] ; val_term: 104.0 ; out_of_range: 34\n",
      "path: [100. 101. 102. 101. 102. 103. 104. 103. 102. 101. 100.] ; val_term: 100.0 ; out_of_range: 34\n",
      "path: [100.  99.  98.  99.  98.  97.  98.  99. 100.  99. 100.] ; val_term: 100.0 ; out_of_range: 34\n",
      "path: [100.  99. 100.  99.  98.  97.  98.  97.  96.  97.  98.] ; val_term: 98.0 ; out_of_range: 34\n",
      "probability the stock is NOT in range [97, 102]: 0.34\n"
     ]
    }
   ],
   "source": [
    "# simulate a large number of paths and compute the fraction with desired terminal value\n",
    "# After 10 steps, what is the probability the stock is NOT in range [97, 102]? \n",
    "\n",
    "num_paths = 100\n",
    "out_of_range = 0\n",
    "lower_bnd = 97\n",
    "upper_bnd = 102\n",
    "verbose = True\n",
    "\n",
    "for ix in range(num_paths):\n",
    "    path_i = s1.simulate_path()\n",
    "    val_term = path_i[-1]\n",
    "    if (val_term < lower_bnd) or (val_term > upper_bnd):\n",
    "        out_of_range += 1\n",
    "    if verbose:\n",
    "        print('path:',path_i, '; val_term:',val_term, '; out_of_range:',out_of_range)\n",
    "\n",
    "prob = out_of_range / num_paths\n",
    "print('probability the stock is NOT in range [97, 102]:', prob)"
   ]
  },
  {
   "cell_type": "markdown",
   "metadata": {},
   "source": [
    "---"
   ]
  },
  {
   "cell_type": "code",
   "execution_count": null,
   "metadata": {},
   "outputs": [],
   "source": []
  }
 ],
 "metadata": {
  "kernelspec": {
   "display_name": "Python 3",
   "language": "python",
   "name": "python3"
  },
  "language_info": {
   "codemirror_mode": {
    "name": "ipython",
    "version": 3
   },
   "file_extension": ".py",
   "mimetype": "text/x-python",
   "name": "python",
   "nbconvert_exporter": "python",
   "pygments_lexer": "ipython3",
   "version": "3.7.4"
  }
 },
 "nbformat": 4,
 "nbformat_minor": 4
}
