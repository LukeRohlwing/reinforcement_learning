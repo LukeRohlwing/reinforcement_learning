{
 "cells": [
  {
   "cell_type": "markdown",
   "id": "d2ba6549-8b15-4f95-9615-549dd5fa2f7c",
   "metadata": {},
   "source": [
    "### Lab [ungraded]: RL with Human Feedback Thought Experiment\n",
    "\n",
    "### University of Virginia\n",
    "### Reinforcement Learning\n",
    "#### Last updated: April 22, 2024\n",
    "\n",
    "---"
   ]
  },
  {
   "cell_type": "markdown",
   "id": "2afeab41-bd5f-40e8-ad2f-e8999f13ed45",
   "metadata": {},
   "source": [
    "#### Instructions:\n",
    "\n",
    "Could your project have benefited from RLHF? \n",
    "\n",
    "If so,\n",
    "\n",
    "- Discuss how the reward model might work\n",
    "\n",
    "- Explain any other important details\n",
    "\n",
    "- Include one or two slides near the end of your team project presentation on RLHF\n",
    "\n",
    "---"
   ]
  },
  {
   "cell_type": "markdown",
   "id": "285f77b4-736e-4287-a570-2ecb5158e1b5",
   "metadata": {},
   "source": [
    "<img src=\"./rlhf_flow.png\" width=400>\n",
    "\n",
    "---"
   ]
  }
 ],
 "metadata": {
  "kernelspec": {
   "display_name": "Python 3 (ipykernel)",
   "language": "python",
   "name": "python3"
  },
  "language_info": {
   "codemirror_mode": {
    "name": "ipython",
    "version": 3
   },
   "file_extension": ".py",
   "mimetype": "text/x-python",
   "name": "python",
   "nbconvert_exporter": "python",
   "pygments_lexer": "ipython3",
   "version": "3.9.12"
  }
 },
 "nbformat": 4,
 "nbformat_minor": 5
}
