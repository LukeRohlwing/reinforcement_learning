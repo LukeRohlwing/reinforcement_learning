{
 "cells": [
  {
   "cell_type": "markdown",
   "id": "d2ba6549-8b15-4f95-9615-549dd5fa2f7c",
   "metadata": {},
   "source": [
    "### Lab [ungraded]: RL with Human Feedback Thought Experiment\n",
    "\n",
    "### University of Virginia\n",
    "### Reinforcement Learning\n",
    "#### Last updated: February 29, 2024\n",
    "\n",
    "---"
   ]
  },
  {
   "cell_type": "markdown",
   "id": "2afeab41-bd5f-40e8-ad2f-e8999f13ed45",
   "metadata": {},
   "source": [
    "#### Instructions:\n",
    "\n",
    "You will work with one or two people who are not on your project team to design a system to implement RLHF.  \n",
    "Your plan should include:\n",
    "\n",
    "- Identifying a problem to solve\n",
    "- Considering the data, predictors, and details for the reward model (RM)\n",
    "- Planning the agent model\n",
    "\n",
    "You will think through the steps and answer the questions below.\n",
    "\n",
    "---"
   ]
  },
  {
   "cell_type": "markdown",
   "id": "285f77b4-736e-4287-a570-2ecb5158e1b5",
   "metadata": {},
   "source": [
    "<img src=\"./rlhf_flow.png\" width=400>\n",
    "\n",
    "---"
   ]
  },
  {
   "cell_type": "markdown",
   "id": "7a304cd5-72e7-4f53-95d4-1cb9fcfb1d1f",
   "metadata": {},
   "source": [
    "#### 1) What is the problem you will solve?"
   ]
  },
  {
   "cell_type": "markdown",
   "id": "34e536f8-9cc1-4295-8283-3d9528ffb8f1",
   "metadata": {},
   "source": []
  },
  {
   "cell_type": "markdown",
   "id": "e6704924-c33d-4135-bd79-7ffef75e7aa9",
   "metadata": {},
   "source": [
    "#### 2) Discuss the data, predictors, and details for the reward model."
   ]
  },
  {
   "cell_type": "markdown",
   "id": "14d22699-94b4-4c89-ba29-91f09def4fa6",
   "metadata": {},
   "source": []
  },
  {
   "cell_type": "markdown",
   "id": "894d315f-ed95-4b9a-b6f5-53e1305d272a",
   "metadata": {},
   "source": [
    "#### 3) Discuss the agent model."
   ]
  },
  {
   "cell_type": "markdown",
   "id": "d4e2c3c5-c524-4512-8074-37b7f098d002",
   "metadata": {},
   "source": []
  },
  {
   "cell_type": "markdown",
   "id": "7259568c-0352-4271-94cf-28361e1cabec",
   "metadata": {},
   "source": [
    "#### 4) Discuss anything else that is relevant."
   ]
  },
  {
   "cell_type": "markdown",
   "id": "7cd88392-306b-4ee4-91cb-629ccf58806b",
   "metadata": {},
   "source": []
  }
 ],
 "metadata": {
  "kernelspec": {
   "display_name": "Python 3 (ipykernel)",
   "language": "python",
   "name": "python3"
  },
  "language_info": {
   "codemirror_mode": {
    "name": "ipython",
    "version": 3
   },
   "file_extension": ".py",
   "mimetype": "text/x-python",
   "name": "python",
   "nbconvert_exporter": "python",
   "pygments_lexer": "ipython3",
   "version": "3.9.12"
  }
 },
 "nbformat": 4,
 "nbformat_minor": 5
}
